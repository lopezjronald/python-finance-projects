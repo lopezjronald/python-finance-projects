{
 "cells": [
  {
   "cell_type": "code",
   "execution_count": 4,
   "metadata": {
    "pycharm": {
     "name": "#%%\n"
    }
   },
   "outputs": [],
   "source": [
    "import quandl"
   ]
  },
  {
   "cell_type": "code",
   "execution_count": 5,
   "metadata": {
    "pycharm": {
     "name": "#%%\n"
    }
   },
   "outputs": [],
   "source": [
    "QUANDL_API_KEY = 'zCcZsyr7fSr5c1LrimuK'"
   ]
  },
  {
   "cell_type": "code",
   "execution_count": 6,
   "metadata": {
    "pycharm": {
     "name": "#%%\n"
    }
   },
   "outputs": [],
   "source": [
    "quandl.ApiConfig.api_key = QUANDL_API_KEY"
   ]
  },
  {
   "cell_type": "code",
   "execution_count": 34,
   "metadata": {
    "pycharm": {
     "name": "#%%\n"
    }
   },
   "outputs": [],
   "source": [
    "df = quandl.get('EURONEXT/ABN')"
   ]
  },
  {
   "cell_type": "code",
   "execution_count": 35,
   "metadata": {
    "pycharm": {
     "name": "#%%\n"
    }
   },
   "outputs": [
    {
     "data": {
      "text/html": [
       "<div>\n",
       "<style scoped>\n",
       "    .dataframe tbody tr th:only-of-type {\n",
       "        vertical-align: middle;\n",
       "    }\n",
       "\n",
       "    .dataframe tbody tr th {\n",
       "        vertical-align: top;\n",
       "    }\n",
       "\n",
       "    .dataframe thead th {\n",
       "        text-align: right;\n",
       "    }\n",
       "</style>\n",
       "<table border=\"1\" class=\"dataframe\">\n",
       "  <thead>\n",
       "    <tr style=\"text-align: right;\">\n",
       "      <th></th>\n",
       "      <th>Open</th>\n",
       "      <th>High</th>\n",
       "      <th>Low</th>\n",
       "      <th>Last</th>\n",
       "      <th>Volume</th>\n",
       "      <th>Turnover</th>\n",
       "    </tr>\n",
       "    <tr>\n",
       "      <th>Date</th>\n",
       "      <th></th>\n",
       "      <th></th>\n",
       "      <th></th>\n",
       "      <th></th>\n",
       "      <th></th>\n",
       "      <th></th>\n",
       "    </tr>\n",
       "  </thead>\n",
       "  <tbody>\n",
       "    <tr>\n",
       "      <th>2015-11-20</th>\n",
       "      <td>18.18</td>\n",
       "      <td>18.43</td>\n",
       "      <td>18.000</td>\n",
       "      <td>18.35</td>\n",
       "      <td>38392898.0</td>\n",
       "      <td>7.003281e+08</td>\n",
       "    </tr>\n",
       "    <tr>\n",
       "      <th>2015-11-23</th>\n",
       "      <td>18.45</td>\n",
       "      <td>18.70</td>\n",
       "      <td>18.215</td>\n",
       "      <td>18.61</td>\n",
       "      <td>3352514.0</td>\n",
       "      <td>6.186446e+07</td>\n",
       "    </tr>\n",
       "    <tr>\n",
       "      <th>2015-11-24</th>\n",
       "      <td>18.70</td>\n",
       "      <td>18.80</td>\n",
       "      <td>18.370</td>\n",
       "      <td>18.80</td>\n",
       "      <td>4871901.0</td>\n",
       "      <td>8.994087e+07</td>\n",
       "    </tr>\n",
       "    <tr>\n",
       "      <th>2015-11-25</th>\n",
       "      <td>18.85</td>\n",
       "      <td>19.50</td>\n",
       "      <td>18.770</td>\n",
       "      <td>19.45</td>\n",
       "      <td>4802607.0</td>\n",
       "      <td>9.153862e+07</td>\n",
       "    </tr>\n",
       "    <tr>\n",
       "      <th>2015-11-26</th>\n",
       "      <td>19.48</td>\n",
       "      <td>19.67</td>\n",
       "      <td>19.410</td>\n",
       "      <td>19.43</td>\n",
       "      <td>1648481.0</td>\n",
       "      <td>3.220713e+07</td>\n",
       "    </tr>\n",
       "  </tbody>\n",
       "</table>\n",
       "</div>"
      ],
      "text/plain": [
       "             Open   High     Low   Last      Volume      Turnover\n",
       "Date                                                             \n",
       "2015-11-20  18.18  18.43  18.000  18.35  38392898.0  7.003281e+08\n",
       "2015-11-23  18.45  18.70  18.215  18.61   3352514.0  6.186446e+07\n",
       "2015-11-24  18.70  18.80  18.370  18.80   4871901.0  8.994087e+07\n",
       "2015-11-25  18.85  19.50  18.770  19.45   4802607.0  9.153862e+07\n",
       "2015-11-26  19.48  19.67  19.410  19.43   1648481.0  3.220713e+07"
      ]
     },
     "execution_count": 35,
     "metadata": {},
     "output_type": "execute_result"
    }
   ],
   "source": [
    "df.head()\n"
   ]
  },
  {
   "cell_type": "code",
   "execution_count": 36,
   "metadata": {
    "pycharm": {
     "name": "#%%\n"
    }
   },
   "outputs": [
    {
     "data": {
      "text/html": [
       "<div>\n",
       "<style scoped>\n",
       "    .dataframe tbody tr th:only-of-type {\n",
       "        vertical-align: middle;\n",
       "    }\n",
       "\n",
       "    .dataframe tbody tr th {\n",
       "        vertical-align: top;\n",
       "    }\n",
       "\n",
       "    .dataframe thead th {\n",
       "        text-align: right;\n",
       "    }\n",
       "</style>\n",
       "<table border=\"1\" class=\"dataframe\">\n",
       "  <thead>\n",
       "    <tr style=\"text-align: right;\">\n",
       "      <th></th>\n",
       "      <th>Open</th>\n",
       "      <th>High</th>\n",
       "      <th>Low</th>\n",
       "      <th>Last</th>\n",
       "      <th>Volume</th>\n",
       "      <th>Turnover</th>\n",
       "    </tr>\n",
       "    <tr>\n",
       "      <th>Date</th>\n",
       "      <th></th>\n",
       "      <th></th>\n",
       "      <th></th>\n",
       "      <th></th>\n",
       "      <th></th>\n",
       "      <th></th>\n",
       "    </tr>\n",
       "  </thead>\n",
       "  <tbody>\n",
       "    <tr>\n",
       "      <th>2020-09-30</th>\n",
       "      <td>6.878</td>\n",
       "      <td>7.226</td>\n",
       "      <td>6.840</td>\n",
       "      <td>7.152</td>\n",
       "      <td>4341759.0</td>\n",
       "      <td>30722289.0</td>\n",
       "    </tr>\n",
       "    <tr>\n",
       "      <th>2020-10-01</th>\n",
       "      <td>7.242</td>\n",
       "      <td>7.282</td>\n",
       "      <td>7.010</td>\n",
       "      <td>7.064</td>\n",
       "      <td>4413922.0</td>\n",
       "      <td>31381324.0</td>\n",
       "    </tr>\n",
       "    <tr>\n",
       "      <th>2020-10-02</th>\n",
       "      <td>6.930</td>\n",
       "      <td>7.256</td>\n",
       "      <td>6.902</td>\n",
       "      <td>7.256</td>\n",
       "      <td>5205304.0</td>\n",
       "      <td>37037727.0</td>\n",
       "    </tr>\n",
       "    <tr>\n",
       "      <th>2020-10-05</th>\n",
       "      <td>7.342</td>\n",
       "      <td>7.416</td>\n",
       "      <td>7.258</td>\n",
       "      <td>7.340</td>\n",
       "      <td>2599530.0</td>\n",
       "      <td>19082501.0</td>\n",
       "    </tr>\n",
       "    <tr>\n",
       "      <th>2020-10-06</th>\n",
       "      <td>7.388</td>\n",
       "      <td>7.726</td>\n",
       "      <td>7.338</td>\n",
       "      <td>7.710</td>\n",
       "      <td>5594777.0</td>\n",
       "      <td>42418032.0</td>\n",
       "    </tr>\n",
       "  </tbody>\n",
       "</table>\n",
       "</div>"
      ],
      "text/plain": [
       "             Open   High    Low   Last     Volume    Turnover\n",
       "Date                                                         \n",
       "2020-09-30  6.878  7.226  6.840  7.152  4341759.0  30722289.0\n",
       "2020-10-01  7.242  7.282  7.010  7.064  4413922.0  31381324.0\n",
       "2020-10-02  6.930  7.256  6.902  7.256  5205304.0  37037727.0\n",
       "2020-10-05  7.342  7.416  7.258  7.340  2599530.0  19082501.0\n",
       "2020-10-06  7.388  7.726  7.338  7.710  5594777.0  42418032.0"
      ]
     },
     "execution_count": 36,
     "metadata": {},
     "output_type": "execute_result"
    }
   ],
   "source": [
    "df.tail()"
   ]
  },
  {
   "cell_type": "code",
   "execution_count": 37,
   "metadata": {
    "pycharm": {
     "name": "#%%\n"
    }
   },
   "outputs": [],
   "source": [
    "import matplotlib.pyplot as plt"
   ]
  },
  {
   "cell_type": "code",
   "execution_count": 38,
   "metadata": {
    "pycharm": {
     "name": "#%%\n"
    }
   },
   "outputs": [
    {
     "data": {
      "image/png": "[encoded data removed]",
      "text/plain": [
       "<Figure size 432x288 with 1 Axes>"
      ]
     },
     "metadata": {
      "needs_background": "light"
     },
     "output_type": "display_data"
    }
   ],
   "source": [
    "df.plot();"
   ]
  },
  {
   "cell_type": "code",
   "execution_count": 39,
   "metadata": {
    "pycharm": {
     "name": "#%%\n"
    }
   },
   "outputs": [],
   "source": [
    "prices = df['Last']"
   ]
  },
  {
   "cell_type": "code",
   "execution_count": 50,
   "metadata": {
    "pycharm": {
     "name": "#%%\n"
    }
   },
   "outputs": [],
   "source": [
    "volumes = df['Volume']"
   ]
  }
 ],
 "metadata": {
  "kernelspec": {
   "display_name": "Python 3",
   "language": "python",
   "name": "python3"
  },
  "language_info": {
   "codemirror_mode": {
    "name": "ipython",
    "version": 3
   },
   "file_extension": ".py",
   "mimetype": "text/x-python",
   "name": "python",
   "nbconvert_exporter": "python",
   "pygments_lexer": "ipython3",
   "version": "3.8.6"
  }
 },
 "nbformat": 4,
 "nbformat_minor": 4
}
